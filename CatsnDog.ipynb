{
 "cells": [
  {
   "cell_type": "code",
   "execution_count": 16,
   "id": "olympic-tribe",
   "metadata": {},
   "outputs": [],
   "source": [
    "import matplotlib.pyplot as plt\n",
    "\n",
    "from keras import layers\n",
    "from keras import models\n",
    "from keras import optimizers\n",
    "from keras.preprocessing.image import load_img, img_to_array, ImageDataGenerator\n",
    "from keras import applications\n",
    "from keras import callbacks\n",
    "\n",
    "from sklearn.preprocessing import LabelEncoder\n",
    "from sklearn.model_selection import train_test_split\n",
    "from sklearn.linear_model import LogisticRegression\n",
    "from sklearn import metrics\n"
   ]
  },
  {
   "cell_type": "code",
   "execution_count": 17,
   "id": "painted-graphic",
   "metadata": {},
   "outputs": [
    {
     "name": "stdout",
     "output_type": "stream",
     "text": [
      "Found 25000 images belonging to 1 classes.\n",
      "Found 12500 images belonging to 1 classes.\n"
     ]
    }
   ],
   "source": [
    "train_datagen=ImageDataGenerator(\n",
    "rotation_range=15,\n",
    "rescale=1./255,\n",
    "shear_range=0.1,\n",
    "zoom_range=0.2,\n",
    "horizontal_flip=True,\n",
    "width_shift_range=0.1,\n",
    "height_shift_range=0.1)\n",
    "\n",
    "train_datagenerator=train_datagen.flow_from_directory(\"catvsdog/train\",\n",
    "                                                     target_size=(150, 150),\n",
    "                                                     class_mode=\"binary\",\n",
    "                                                     batch_size=150)\n",
    "test_datagen=ImageDataGenerator(\n",
    "rotation_range=15,\n",
    "rescale=1./255,\n",
    "shear_range=0.1,\n",
    "zoom_range=0.2,\n",
    "horizontal_flip=True,\n",
    "width_shift_range=0.1,\n",
    "height_shift_range=0.1)\n",
    "\n",
    "test_datagenerator=test_datagen.flow_from_directory(\"catvsdog/test\",\n",
    "                                                     target_size=(150, 150),\n",
    "                                                     class_mode=\"binary\",\n",
    "                                                     batch_size=150)\n",
    "\n"
   ]
  },
  {
   "cell_type": "code",
   "execution_count": 18,
   "id": "alone-bacteria",
   "metadata": {},
   "outputs": [
    {
     "name": "stdout",
     "output_type": "stream",
     "text": [
      "Model: \"sequential_1\"\n",
      "_________________________________________________________________\n",
      "Layer (type)                 Output Shape              Param #   \n",
      "=================================================================\n",
      "conv2d_2 (Conv2D)            (None, 148, 148, 32)      896       \n",
      "_________________________________________________________________\n",
      "max_pooling2d_2 (MaxPooling2 (None, 74, 74, 32)        0         \n",
      "_________________________________________________________________\n",
      "conv2d_3 (Conv2D)            (None, 72, 72, 64)        18496     \n",
      "_________________________________________________________________\n",
      "max_pooling2d_3 (MaxPooling2 (None, 36, 36, 64)        0         \n",
      "_________________________________________________________________\n",
      "flatten_1 (Flatten)          (None, 82944)             0         \n",
      "_________________________________________________________________\n",
      "dense_2 (Dense)              (None, 512)               42467840  \n",
      "_________________________________________________________________\n",
      "dropout_1 (Dropout)          (None, 512)               0         \n",
      "_________________________________________________________________\n",
      "dense_3 (Dense)              (None, 1)                 513       \n",
      "=================================================================\n",
      "Total params: 42,487,745\n",
      "Trainable params: 42,487,745\n",
      "Non-trainable params: 0\n",
      "_________________________________________________________________\n"
     ]
    }
   ],
   "source": [
    "model=models.Sequential()\n",
    "model.add(layers.Conv2D(32, (3,3), activation=\"relu\", input_shape=(150, 150, 3)))\n",
    "model.add(layers.BatchNormalization())\n",
    "model.add(layers.MaxPooling2D((2,2)))\n",
    "model.add(layers.Dropout(0.25))\n",
    "\n",
    "model.add(layers.Conv2D(64, (3,3), activation=\"relu\"))\n",
    "model.add(layers.BatchNormalization())\n",
    "model.add(layers.MaxPooling2D(2,2))\n",
    "model.add(layers.Dropout(0.25))\n",
    "\n",
    "model.add(layers.Conv2D(128, (3,3), activation=\"relu\"))\n",
    "model.add(layers.BatchNormalization())\n",
    "model.add(layers.MaxPooling2D(2,2))\n",
    "model.add(layers.Dropout(0.25))\n",
    "\n",
    "model.add(layers.Flatten())\n",
    "model.add(layers.Dense(512, activation=\"relu\"))\n",
    "model.add(layers.BatchNormalization())\n",
    "model.add(layers.Dropout(0.5))\n",
    "model.add(layers.Dense(1, activation=\"sigmoid\"))\n",
    "model.summary()"
   ]
  },
  {
   "cell_type": "code",
   "execution_count": 19,
   "id": "little-going",
   "metadata": {},
   "outputs": [],
   "source": [
    "#compilamos y creamos el early stopping\n",
    "early_stopping = callbacks.EarlyStopping(\n",
    "    min_delta=0.001, \n",
    "    patience=5, \n",
    "    restore_best_weights=True,\n",
    ")\n",
    "model.compile(loss=\"binary_crossentropy\", optimizer=\"adam\",metrics=[\"binary_accuracy\"])"
   ]
  },
  {
   "cell_type": "code",
   "execution_count": 20,
   "id": "durable-metro",
   "metadata": {
    "scrolled": true
   },
   "outputs": [
    {
     "name": "stdout",
     "output_type": "stream",
     "text": [
      "Epoch 1/10\n",
      "167/167 [==============================] - 403s 2s/step - loss: 0.0247 - binary_accuracy: 0.9778 - val_loss: 0.0000e+00 - val_binary_accuracy: 1.0000\n",
      "Epoch 2/10\n",
      "167/167 [==============================] - 467s 3s/step - loss: 6.6864e-39 - binary_accuracy: 1.0000 - val_loss: 0.0000e+00 - val_binary_accuracy: 1.0000\n",
      "Epoch 3/10\n",
      "167/167 [==============================] - 415s 2s/step - loss: 0.0000e+00 - binary_accuracy: 1.0000 - val_loss: 0.0000e+00 - val_binary_accuracy: 1.0000\n",
      "Epoch 4/10\n",
      "167/167 [==============================] - 428s 3s/step - loss: 5.8721e-39 - binary_accuracy: 1.0000 - val_loss: 0.0000e+00 - val_binary_accuracy: 1.0000\n",
      "Epoch 5/10\n",
      "167/167 [==============================] - 376s 2s/step - loss: 8.6871e-35 - binary_accuracy: 1.0000 - val_loss: 0.0000e+00 - val_binary_accuracy: 1.0000\n",
      "Epoch 6/10\n",
      "167/167 [==============================] - 377s 2s/step - loss: 0.0000e+00 - binary_accuracy: 1.0000 - val_loss: 2.8669e-38 - val_binary_accuracy: 1.0000\n",
      "Epoch 7/10\n",
      "167/167 [==============================] - 375s 2s/step - loss: 9.4733e-37 - binary_accuracy: 1.0000 - val_loss: 0.0000e+00 - val_binary_accuracy: 1.0000\n",
      "Epoch 8/10\n",
      "167/167 [==============================] - 2130s 13s/step - loss: 0.0000e+00 - binary_accuracy: 1.0000 - val_loss: 0.0000e+00 - val_binary_accuracy: 1.0000\n",
      "Epoch 9/10\n",
      "167/167 [==============================] - 365s 2s/step - loss: 0.0000e+00 - binary_accuracy: 1.0000 - val_loss: 7.1179e-38 - val_binary_accuracy: 1.0000\n",
      "Epoch 10/10\n",
      "167/167 [==============================] - 3339s 20s/step - loss: 0.0000e+00 - binary_accuracy: 1.0000 - val_loss: 0.0000e+00 - val_binary_accuracy: 1.0000\n"
     ]
    }
   ],
   "source": [
    "#Entrenamos nuestras redes neuronales\n",
    "modelHistory=model.fit(train_datagenerator,validation_data=test_datagenerator,epochs = 10,batch_size = 16,)"
   ]
  },
  {
   "cell_type": "code",
   "execution_count": 24,
   "id": "printable-villa",
   "metadata": {},
   "outputs": [
    {
     "data": {
      "image/png": "[encoded data removed]",
      "text/plain": [
       "<Figure size 432x288 with 1 Axes>"
      ]
     },
     "metadata": {
      "needs_background": "light"
     },
     "output_type": "display_data"
    }
   ],
   "source": [
    "#Obtenemos una tabla donde poder comparar el accuracy real del esperado\n",
    "plt.plot(modelHistory.history['binary_accuracy'],marker='o')\n",
    "plt.plot(modelHistory.history['val_binary_accuracy'],marker='o')\n",
    "plt.title('model accuracy with own model')\n",
    "plt.xlabel('epoch')\n",
    "plt.ylabel('accuracy')\n",
    "plt.show()\n"
   ]
  },
  {
   "cell_type": "code",
   "execution_count": null,
   "id": "animated-valuable",
   "metadata": {},
   "outputs": [],
   "source": []
  }
 ],
 "metadata": {
  "kernelspec": {
   "display_name": "Python 3",
   "language": "python",
   "name": "python3"
  },
  "language_info": {
   "codemirror_mode": {
    "name": "ipython",
    "version": 3
   },
   "file_extension": ".py",
   "mimetype": "text/x-python",
   "name": "python",
   "nbconvert_exporter": "python",
   "pygments_lexer": "ipython3",
   "version": "3.8.10"
  }
 },
 "nbformat": 4,
 "nbformat_minor": 5
}
